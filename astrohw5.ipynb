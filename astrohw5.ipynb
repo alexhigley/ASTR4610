{
 "cells": [
  {
   "cell_type": "markdown",
   "metadata": {},
   "source": [
    "# Astrophysics Homework Five\n",
    "\n",
    "## Alexandra Higley"
   ]
  },
  {
   "cell_type": "code",
   "execution_count": 1,
   "metadata": {},
   "outputs": [],
   "source": [
    "import numpy as np\n",
    "from pylab import *\n",
    "from math import e\n",
    "import matplotlib\n",
    "import matplotlib.pyplot as plt\n",
    "import matplotlib.ticker as ticker\n",
    "from scipy.optimize import curve_fit\n",
    "import scipy\n",
    "from scipy import stats\n",
    "import math\n",
    "import random"
   ]
  },
  {
   "cell_type": "markdown",
   "metadata": {},
   "source": [
    "Questions 1, 2 and 8 were answered fully in my written work that is attached at the end. See the end for those questions.  "
   ]
  },
  {
   "cell_type": "markdown",
   "metadata": {},
   "source": [
    "### Question Three\n",
    "\n",
    "Question 3 was partly done in the attached written work (see end). Here I am calculating the propogation of error and finding an uncertainty for the Roche limit using what was derived in the written work. "
   ]
  },
  {
   "cell_type": "code",
   "execution_count": 2,
   "metadata": {},
   "outputs": [],
   "source": [
    "G = 6.67E-11\n",
    "rad_e = 6.371E6\n",
    "rad_j = 69.911E6\n",
    "mass_e = 5.972E24\n",
    "mass_j = 1.899E27\n",
    "\n",
    "rad_eu = 1.274E6\n",
    "mass_eu = 1.194E24\n",
    "mass_ju = 3.798E27"
   ]
  },
  {
   "cell_type": "code",
   "execution_count": 3,
   "metadata": {},
   "outputs": [],
   "source": [
    "def getRprop(me,mj,re,mju,meu,reu):\n",
    "    y1 = ((((2/me)**(1/3))*(re/3)*(1/((mj)**(2/3))))**2)*((mju)**2)\n",
    "    y2 = ((-((2*mj)**(1/3))*(re/(3*(me**(4/3)))))**2)*((meu)**2)\n",
    "    y3 = ((((2*mj)/me)**(1/3))**2)*((reu)**2)\n",
    "    y4 = np.sqrt(y1+y2+y3)\n",
    "    return y4"
   ]
  },
  {
   "cell_type": "code",
   "execution_count": 4,
   "metadata": {},
   "outputs": [
    {
     "name": "stdout",
     "output_type": "stream",
     "text": [
      "38307532.324979976\n"
     ]
    }
   ],
   "source": [
    "Ru = getRprop(mass_e,mass_j,rad_e,mass_ju,mass_eu,rad_eu)\n",
    "print(Ru)"
   ]
  },
  {
   "cell_type": "code",
   "execution_count": 5,
   "metadata": {},
   "outputs": [],
   "source": [
    "def getRoche(r,m1,m2):\n",
    "    R = r*((2*m1)/m2)**(1/3)\n",
    "    return R"
   ]
  },
  {
   "cell_type": "code",
   "execution_count": 6,
   "metadata": {},
   "outputs": [
    {
     "name": "stdout",
     "output_type": "stream",
     "text": [
      "The Roche limit of Earth if it was orbiting Jupiter is 54788068.768 +/- 38307532.325 m, \n",
      "or 0.784 +/- 0.548 Jupiter radii\n",
      "\n",
      "This is  69.919 % of the normal Roche Radius\n"
     ]
    }
   ],
   "source": [
    "lim = getRoche(rad_e, mass_j, mass_e)\n",
    "perct = 100*(Ru/lim)\n",
    "\n",
    "print(\"The Roche limit of Earth if it was orbiting Jupiter is\", round(lim, 3), \"+/-\", round(Ru, 3),\"m, \\nor\", (round((lim/rad_j), 3)),  \"+/-\",round(Ru/rad_j, 3), \"Jupiter radii\")\n",
    "print(\"\\nThis is \",round(perct,3),\"% of the normal Roche Radius\")\n",
    "\n"
   ]
  },
  {
   "cell_type": "markdown",
   "metadata": {},
   "source": [
    "## Question Four"
   ]
  },
  {
   "cell_type": "markdown",
   "metadata": {},
   "source": [
    "The first parts of this question was done on paper, so see the atrtahced work for that. Here we are computing the propogation of error for luminosity. When I did this problem, I decided that the two stars were a type 5 O5 star and a type V O6 star, so I will be using values that correlate to those stellar types to solve for the luminosities. \n",
    "\n",
    "Based on that question from Hw 3, I estimate the uncertainty on the radii to be +/- 2 solar radii and the uncertainty on the temperature to be +/- 10,000 K.  "
   ]
  },
  {
   "cell_type": "code",
   "execution_count": 7,
   "metadata": {},
   "outputs": [],
   "source": [
    "r1 = 13.4*6.957e8\n",
    "r2 = 12.2*6.957e8\n",
    "\n",
    "sigma = 5.67*(10**-8) #m2 kg s-2 K-1\n",
    "temp1 = 42000\n",
    "temp2 = 39500\n",
    "\n",
    "Tu4 = 2\n",
    "Ru4 = 1*6.957e8"
   ]
  },
  {
   "cell_type": "code",
   "execution_count": 8,
   "metadata": {},
   "outputs": [],
   "source": [
    "def lum(temp,r):\n",
    "    L = 4*np.pi*(r**2)*sigma*temp**4\n",
    "    return L"
   ]
  },
  {
   "cell_type": "code",
   "execution_count": 9,
   "metadata": {},
   "outputs": [],
   "source": [
    "def Lprop(T,R,Ru,Tu):\n",
    "    y1 = ((8*np.pi*sigma*(T**4)*R)**2)*((Ru)**2)\n",
    "    y2 = ((16*np.pi*(R**2)*sigma*(T**3))**2)*((Tu)**2)\n",
    "    y3 = 2*Ru*Tu*y1*y2\n",
    "    y4 = np.sqrt(y1+y2+y3)\n",
    "    return y4"
   ]
  },
  {
   "cell_type": "code",
   "execution_count": 10,
   "metadata": {},
   "outputs": [
    {
     "name": "stdout",
     "output_type": "stream",
     "text": [
      "501909.6847624659 1.4503611399074988e+38\n",
      "325481.9141226391 7.123212305159582e+37\n"
     ]
    }
   ],
   "source": [
    "#Star One\n",
    "lum1 = lum(temp1,r1)\n",
    "prop1 = Lprop(temp1,r1,Ru4,Tu4)\n",
    "\n",
    "lum1_s = lum1/3.839e26\n",
    "prop1_s = prop1/3.839e26\n",
    "\n",
    "#Star Two\n",
    "lum2 = lum(temp2,r2)\n",
    "prop2 = Lprop(temp2,r2,Ru4,Tu4)\n",
    "\n",
    "lum2_s = lum2/3.839e26\n",
    "prop2_s = prop2/3.839e26\n",
    "\n",
    "print(lum1_s, prop1_s)\n",
    "print(lum2_s, prop2_s)"
   ]
  },
  {
   "cell_type": "code",
   "execution_count": 11,
   "metadata": {},
   "outputs": [
    {
     "name": "stdout",
     "output_type": "stream",
     "text": [
      "The Luminosity of Star One is 501909 +/- 1.450E38 solar luminosities \n",
      "\n",
      "The Luminosity of Star Two is 325481 +/- 1.123E38 solar luminosities\n"
     ]
    }
   ],
   "source": [
    "print(\"The Luminosity of Star One is 501909 +/- 1.450E38 solar luminosities \\n\")\n",
    "print(\"The Luminosity of Star Two is 325481 +/- 1.123E38 solar luminosities\")"
   ]
  },
  {
   "cell_type": "markdown",
   "metadata": {},
   "source": [
    "These propogations of error are quite large, probably due to the T^4 term and T^3 term that still exist within the propogation of error (this or I did something wrong because the uncvertaies are *huge*). Even if I change the uncertainties on the stellar radii and temperatures to something fairly small, the uncertainty on the luminosity is large. This suggests it is hard to get very accurate values for luminosity. "
   ]
  },
  {
   "cell_type": "markdown",
   "metadata": {},
   "source": [
    "## Question Five"
   ]
  },
  {
   "cell_type": "markdown",
   "metadata": {},
   "source": [
    "To find the probability of falling above or below three sigma, we should probably work with a normal Gaussian which has a mean of one and a standard deviation of 1. "
   ]
  },
  {
   "cell_type": "code",
   "execution_count": 12,
   "metadata": {},
   "outputs": [],
   "source": [
    "dx = 0.01\n",
    "x = np.arange(-10,10,dx)\n",
    "#x = np.linspace(-10, 10, 100)\n",
    "mu = 0\n",
    "sig = 1\n",
    "#normal distribution "
   ]
  },
  {
   "cell_type": "code",
   "execution_count": 13,
   "metadata": {},
   "outputs": [
    {
     "data": {
      "image/png": "[encoded data removed]",
      "text/plain": [
       "<Figure size 432x288 with 1 Axes>"
      ]
     },
     "metadata": {
      "needs_background": "light"
     },
     "output_type": "display_data"
    }
   ],
   "source": [
    "y = (e**((-x**2)/2))/(np.sqrt(2*np.pi))\n",
    "#Equation for a normal Gaussian \n",
    "\n",
    "plt.plot(x,y);\n",
    "plt.title(\"Normal Gaussian\")\n",
    "plt.xlabel(\"x\")\n",
    "plt.ylabel(\"y\");"
   ]
  },
  {
   "cell_type": "code",
   "execution_count": 14,
   "metadata": {},
   "outputs": [
    {
     "name": "stdout",
     "output_type": "stream",
     "text": [
      "The total area of a normal distribution is, 1.0 as expected.\n"
     ]
    }
   ],
   "source": [
    "area = np.sum(y)*dx #taking summation of the entire curve\n",
    "print(\"The total area of a normal distribution is,\",round(area,5),\"as expected.\")"
   ]
  },
  {
   "cell_type": "markdown",
   "metadata": {},
   "source": [
    "Now that we have numerically solved for the area under the Guassian, we can now find the area before and after three sigma. This is done by finding where three sigma is and integrating over those data points. "
   ]
  },
  {
   "cell_type": "code",
   "execution_count": 15,
   "metadata": {},
   "outputs": [
    {
     "name": "stdout",
     "output_type": "stream",
     "text": [
      "The probability of getting a result higher or lower than 3 sigma is 0.0027\n"
     ]
    }
   ],
   "source": [
    "tsig = sig*3\n",
    "mask3s = ((mu-tsig <= x) & (x <= mu+tsig)) \n",
    "#making a mask to find what data is within 3sigma\n",
    "loc3s = np.where(mask3s == False)[0] #not within 3sigma \n",
    "locres = np.where(mask3s == True)[0] #within sigma\n",
    "\n",
    "#integrating what's not within 3sigma\n",
    "area3s = np.sum(y[loc3s])*dx\n",
    "print(\"The probability of getting a result higher or lower than 3 sigma is\",round(area3s,6))"
   ]
  },
  {
   "cell_type": "markdown",
   "metadata": {},
   "source": [
    "This probability that was found numerically, 0.27%, agrees with what we have learned in class. It is very improbable that results fall beyond 3 standard deviations. "
   ]
  },
  {
   "cell_type": "markdown",
   "metadata": {},
   "source": [
    "## Question 6"
   ]
  },
  {
   "cell_type": "markdown",
   "metadata": {},
   "source": [
    "First we need to make 10,000 random numbers between 0 and 1. These are all to be called \"cos(i)\""
   ]
  },
  {
   "cell_type": "code",
   "execution_count": 16,
   "metadata": {},
   "outputs": [],
   "source": [
    "r = np.empty(10000)\n",
    "for i in range(len(r)):\n",
    "    r[i] = random.randint(0,10000)\n",
    "\n",
    "rl = r/(10000)"
   ]
  },
  {
   "cell_type": "markdown",
   "metadata": {},
   "source": [
    "With that complete, we now need to find i, which will be the inverse cosine of the random numbers. Additionally, I wanted to work in degrees for this problem, so I converted all of my values for \"i\" to degrees. "
   ]
  },
  {
   "cell_type": "code",
   "execution_count": 17,
   "metadata": {},
   "outputs": [],
   "source": [
    "rr = np.empty(10000)\n",
    "for i in range(len(rr)):\n",
    "    rr[i]= math.acos(rl[i])\n",
    "    \n",
    "rr = np.array(rr) #random numbers in radians\n",
    "rd = rr*((180/np.pi)) #random numbers in degrees"
   ]
  },
  {
   "cell_type": "markdown",
   "metadata": {},
   "source": [
    "Now I can make my histograms and try to interpret what is going on here"
   ]
  },
  {
   "cell_type": "code",
   "execution_count": 18,
   "metadata": {},
   "outputs": [
    {
     "data": {
      "image/png": "[encoded data removed]",
      "text/plain": [
       "<Figure size 432x288 with 1 Axes>"
      ]
     },
     "metadata": {
      "needs_background": "light"
     },
     "output_type": "display_data"
    }
   ],
   "source": [
    "plt.hist(rl,edgecolor='black', facecolor='lightblue');\n",
    "plt.title(\"cos(i) Random Values\",fontsize=15)\n",
    "plt.xlabel(\"cos(i)\",fontsize=12)\n",
    "plt.ylabel(\"counts\",fontsize=12);"
   ]
  },
  {
   "cell_type": "code",
   "execution_count": 19,
   "metadata": {},
   "outputs": [
    {
     "data": {
      "image/png": "[encoded data removed]",
      "text/plain": [
       "<Figure size 432x288 with 1 Axes>"
      ]
     },
     "metadata": {
      "needs_background": "light"
     },
     "output_type": "display_data"
    }
   ],
   "source": [
    "plt.hist(rd,edgecolor='black', facecolor='lightblue')\n",
    "plt.title(\"i Random Values\",fontsize=15)\n",
    "plt.xlabel(\"i\",fontsize=12)\n",
    "plt.ylabel(\"counts\",fontsize=12);"
   ]
  },
  {
   "cell_type": "markdown",
   "metadata": {},
   "source": [
    "This is interesting, because even though random numbers were chosen, we still see a patter arise for the i values. If I were to run this over and over again, getting new random numbers each time, I'd find that the same shape appears. We can see that the cos(i) values are random— they are uniformly distributed, however when we take the inverse cosine of them, we see that there are higher probabilities of being distributed in the larger angles. \n",
    "\n",
    "There is a reason for this. From class, we know that it is more probable that we find edge-on galaxies (inclination = 90 degrees) rather than face-on galaxies (inclination = 0 degrees). This is because there are more axes to view edge-on galaxies on, whereas there is only one axis to view a face-on galaxy. Another way to think about it is if you were abducted by aliens and then randomly placed back down on the earth: it will be more probable that you fall near the equator, where it is \"90 degrees\". This is why we see the larger counts around 90 degrees. "
   ]
  },
  {
   "cell_type": "markdown",
   "metadata": {},
   "source": [
    "## Question 7"
   ]
  },
  {
   "cell_type": "markdown",
   "metadata": {},
   "source": [
    "Note that the first part of this question was done on paper. See the attached work. \n",
    "\n",
    "For the rest of this question, we can use the Maxwell-Boltzmann distribution to find the probability that hydrogen or oxygen escapes the atmosphere. As it turns out, I don't think the rms speeds of Hydrogen and Oxygen matter much. "
   ]
  },
  {
   "cell_type": "code",
   "execution_count": 20,
   "metadata": {},
   "outputs": [],
   "source": [
    "R = 8.31\n",
    "T = 289 #K\n",
    "\n",
    "mo2 = 0.032 #kg/mol\n",
    "mh =  0.001 \n",
    "\n",
    "vo2 = 474.799\n",
    "vh = 2684.17\n",
    "\n",
    "dx7 = 0.005\n",
    "o2x = np.arange(0,12000,dx7)\n",
    "hx = np.arange(0,12000,dx7)\n",
    "\n",
    "#o2x = np.linspace(0,12000,100000)\n",
    "#hx = np.linspace(0,12000,100000)\n",
    "\n",
    "#divide by 1000 to put into kg "
   ]
  },
  {
   "cell_type": "markdown",
   "metadata": {},
   "source": [
    "Now, using the equation for thr Maxwell-Boltzmann distribution we can plug in the respective values for both gases and then compare the distributions"
   ]
  },
  {
   "cell_type": "code",
   "execution_count": 21,
   "metadata": {},
   "outputs": [],
   "source": [
    "y1h = 4*np.pi*hx**2\n",
    "y2h = (mh/(2*np.pi*R*T))**(3/2)\n",
    "y3h = np.exp(-(mh*hx**2)/(2*R*T))\n",
    "yh = y1h*y2h*y3h\n",
    "\n",
    "y1o2 = 4*np.pi*o2x**2\n",
    "y2o2 = (mo2/(2*np.pi*R*T))**(3/2)\n",
    "y3o2 = np.exp(-(mo2*o2x**2)/(2*R*T))\n",
    "yo2 = y1o2*y2o2*y3o2"
   ]
  },
  {
   "cell_type": "code",
   "execution_count": 22,
   "metadata": {},
   "outputs": [],
   "source": [
    "def maxbolt(v,m,T):\n",
    "    y1 = 4*np.pi*v**2\n",
    "    y2 = (m/(2*np.pi*R*T))**(3/2)\n",
    "    y3 = np.exp(-(m*v**2)/(2*R*T))\n",
    "    y = y1*y2*y3\n",
    "    return y"
   ]
  },
  {
   "cell_type": "code",
   "execution_count": 23,
   "metadata": {},
   "outputs": [
    {
     "name": "stderr",
     "output_type": "stream",
     "text": [
      "/Users/alexh/opt/anaconda3/lib/python3.7/site-packages/IPython/core/pylabtools.py:128: UserWarning: Creating legend with loc=\"best\" can be slow with large amounts of data.\n",
      "  fig.canvas.print_figure(bytes_io, **kw)\n"
     ]
    },
    {
     "data": {
      "image/png": "[encoded data removed]",
      "text/plain": [
       "<Figure size 576x432 with 1 Axes>"
      ]
     },
     "metadata": {
      "needs_background": "light"
     },
     "output_type": "display_data"
    }
   ],
   "source": [
    "#plotting\n",
    "fig1,ax1 =plt.subplots(figsize=(8,6))\n",
    "\n",
    "ax1.plot(hx, yh, label=\"Hydrogren\")\n",
    "ax1.plot(o2x, yo2,label=\"Oxygen\")\n",
    "\n",
    "ax1.set_xlabel('Velocity (m/s)',fontsize=15)\n",
    "ax1.set_ylabel('Probability Density',fontsize=15)\n",
    "\n",
    "ax1.tick_params(axis='both',which='minor',direction='in')\n",
    "ax1.tick_params(top=True,right=True)\n",
    "ax1.tick_params(which='minor',top=True,right=True)\n",
    "\n",
    "ax1.set_title(\"Maxwell-Boltzmann Distributions for O2 and H\", fontsize = 15)\n",
    "ax1.grid()\n",
    "\n",
    "plt.legend()\n",
    "plt.show()"
   ]
  },
  {
   "cell_type": "markdown",
   "metadata": {},
   "source": [
    "From this plot, we can see that the escape velocity of Earth (11,182 m/s) is pretty far out for both distributions, however it is *more* far out for Oxygen's distribution. We have to keep in mind that these plots indicate probability densities, and even though it appears that there is a zero-probability chance of either gasses ever surpassing 11,182 m/s, this is not the case. Hypothetically, either distributions will reach zero, just approch it. \n",
    "\n",
    "Hopefully, we can calculate the probability for each gas to surpass Earth's escape velocity. It might be noted that I dook a dx to be 0.005 for this integral (my computer couldn't handle much smaller) and this is what I will use to find the area under the curves *after* 11,182 m/s"
   ]
  },
  {
   "cell_type": "code",
   "execution_count": 24,
   "metadata": {},
   "outputs": [
    {
     "name": "stdout",
     "output_type": "stream",
     "text": [
      "The probability of Hydrogen escaping Earth's atmosphere is 6.631009910693091e-16\n"
     ]
    }
   ],
   "source": [
    "#Starting out with Hydrogen \n",
    "\n",
    "area7h = np.sum(yh)*dx7 #taking summation of the entire curve\n",
    "# it equals one, if I were to print this out. \n",
    "\n",
    "mask7h = ((11182 <= hx) & (hx <= 11182))\n",
    "loc7h = np.where(mask7h == False)[0] #where H doesnt escape\n",
    "loc7h_esc = np.where(mask7h == True)[0] #where H does escape\n",
    "\n",
    "area7h_esc = np.sum(yh[loc7h_esc])*dx7\n",
    "print(\"The probability of Hydrogen escaping Earth's atmosphere is\",area7h_esc)"
   ]
  },
  {
   "cell_type": "code",
   "execution_count": 25,
   "metadata": {},
   "outputs": [
    {
     "name": "stdout",
     "output_type": "stream",
     "text": [
      "The probability of Oxygen escaping Earth's atmosphere is 0.0\n"
     ]
    }
   ],
   "source": [
    "#O2\n",
    "\n",
    "area7o2 = np.sum(yo2)*dx7 #taking summation of the entire curve\n",
    "#Also equals one if i were to print it out. \n",
    "\n",
    "mask7o2 = ((11182 <= o2x) & (o2x <= 11182))\n",
    "loc7o2 = np.where(mask7o2 == False)[0]\n",
    "loc7o2_esc = np.where(mask7o2 == True)[0]\n",
    "\n",
    "area7o2_esc = np.sum(yo2[loc7o2_esc])*dx7\n",
    "print(\"The probability of Oxygen escaping Earth's atmosphere is\",area7o2_esc)"
   ]
  },
  {
   "cell_type": "markdown",
   "metadata": {},
   "source": [
    "So, the probability of Oxygen escaping Earth's atmpsphere isn't actually 0, but it is so close to zero that I couldn't find a way to get a value from my computer that didn't end up freezing everything. If I wanted to, I could instead perform the calcuation by hand and take the integral of the curve from 0 to infinity, but I belive that this is evidence enough to show how the probability of Oxygen escaping Earth's atmosphere is much, much smaller than that of Hydrogen's. And Hydrogen's probability is pretty small. However, we have to keep in mind that Earth is also pretty old, and over enough time, all Hydrogen will eventually escape Earth's atmosphere, despite how small the probability of escape is. This is true for Oxygen as well, however since Oxygen's probability is as infinesimally small as it is, it will take much more time for it to escape, far longer than Earth has existed. \n",
    "\n",
    "This is why we still have heavier elements in our atmosphere, but no Hydrogen. "
   ]
  },
  {
   "cell_type": "markdown",
   "metadata": {},
   "source": [
    "## Question 9"
   ]
  },
  {
   "cell_type": "markdown",
   "metadata": {},
   "source": [
    "Continuing with this problem here, I decided to use the mass of hydrogen to find a value for rho. We can also ignore m when calculating the scale height becuase in the written problem, it went away"
   ]
  },
  {
   "cell_type": "code",
   "execution_count": 26,
   "metadata": {},
   "outputs": [],
   "source": [
    "CMM_t = 10\n",
    "CNM_t = 100\n",
    "WIM_t = 10000\n",
    "HCM_t = 10E6\n",
    "\n",
    "CMM_rho = 1.66E-24*0.001 #multiplied by rough guesses of how much hydrogen you would see per cm\n",
    "CNM_rho = 1.66E-24*0.5\n",
    "WIM_rho = 1.66E-24*0.25\n",
    "HCM_rho = 1.66E-24*0.1\n",
    "\n",
    "G = 6.67E-8\n",
    "k = 1.38E-16\n",
    "m = 1 #m doesn't matter"
   ]
  },
  {
   "cell_type": "code",
   "execution_count": 27,
   "metadata": {},
   "outputs": [],
   "source": [
    "def getg(rho):\n",
    "    g = G*rho*2*np.pi\n",
    "    return g\n",
    "\n",
    "CMM_g = getg(CMM_rho)\n",
    "CNM_g = getg(CNM_rho)\n",
    "WIM_g = getg(WIM_rho)\n",
    "HCM_g = getg(HCM_rho)"
   ]
  },
  {
   "cell_type": "code",
   "execution_count": 28,
   "metadata": {},
   "outputs": [
    {
     "name": "stdout",
     "output_type": "stream",
     "text": [
      "The scale height for the Cold Molecular Medium is 0.64279 pc\n",
      "The scale height for the Cold Neutral Medium is 0.01286 pc\n",
      "The scale height for the Warm Ionized Medium is 2.57116 pc\n",
      "The scale height for the Hot Coronal Medium is 6427.90389 pc\n"
     ]
    }
   ],
   "source": [
    "def getscale(T,g):\n",
    "    scale = (k*T)/(m*g)\n",
    "    return scale\n",
    "\n",
    "CMM_s = getscale(CMM_t,CMM_g)\n",
    "CNM_s = getscale(CNM_t,CNM_g)\n",
    "WIM_s = getscale(WIM_t,WIM_g)\n",
    "HCM_s = getscale(HCM_t,HCM_g)\n",
    "\n",
    "print(\"The scale height for the Cold Molecular Medium is\",round(CMM_s/(3.086e+18),5),\"pc\")\n",
    "print(\"The scale height for the Cold Neutral Medium is\",round(CNM_s/(3.086e+18),5),\"pc\")\n",
    "print(\"The scale height for the Warm Ionized Medium is\",round(WIM_s/(3.086e+18),5),\"pc\")\n",
    "print(\"The scale height for the Hot Coronal Medium is\",round(HCM_s/(3.086e+18),5),\"pc\")"
   ]
  },
  {
   "cell_type": "markdown",
   "metadata": {},
   "source": [
    "These values are in the ballpark, but are slighly off. This is probably due to us assuming that the disk is 2D when it is not, as well as only using hydrogen to calculate the mass density. In reality, The warm ionized medium would be composed of things like H+, He+, and O+, and the hot coronal medium would be composed of O^5+, Fe^25+, and Si^10+ (much heavier things). "
   ]
  },
  {
   "cell_type": "markdown",
   "metadata": {},
   "source": [
    "## Question 10"
   ]
  },
  {
   "cell_type": "markdown",
   "metadata": {},
   "source": [
    "To find the number densities, we can use:\n",
    "\n",
    "P = nkT"
   ]
  },
  {
   "cell_type": "code",
   "execution_count": 29,
   "metadata": {},
   "outputs": [
    {
     "name": "stdout",
     "output_type": "stream",
     "text": [
      "The number density for the Cold Molecular Medium is 72463.8 cm^-3\n",
      "The number density for the Cold Neutral Medium is 7246.38 cm^-3\n",
      "The number density for the Warm Ionized Medium is 72.464 cm^-3\n",
      "The number density for the Hot Coronal Medium is 0.0725 cm^-3\n"
     ]
    }
   ],
   "source": [
    "P = 1E-10\n",
    "\n",
    "def getn(T):\n",
    "    n = P/(k*T)\n",
    "    return n\n",
    "    \n",
    "CMM_n = getn(CMM_t)\n",
    "CNM_n = getn(CNM_t)\n",
    "WIM_n = getn(WIM_t)\n",
    "HCM_n = getn(HCM_t)\n",
    "\n",
    "print(\"The number density for the Cold Molecular Medium is\",round(CMM_n,1),\"cm^-3\")\n",
    "print(\"The number density for the Cold Neutral Medium is\",round(CNM_n,2),\"cm^-3\")\n",
    "print(\"The number density for the Warm Ionized Medium is\",round(WIM_n,3),\"cm^-3\")\n",
    "print(\"The number density for the Hot Coronal Medium is\",round(HCM_n,4),\"cm^-3\")"
   ]
  },
  {
   "cell_type": "code",
   "execution_count": null,
   "metadata": {},
   "outputs": [],
   "source": []
  }
 ],
 "metadata": {
  "kernelspec": {
   "display_name": "Python 3",
   "language": "python",
   "name": "python3"
  },
  "language_info": {
   "codemirror_mode": {
    "name": "ipython",
    "version": 3
   },
   "file_extension": ".py",
   "mimetype": "text/x-python",
   "name": "python",
   "nbconvert_exporter": "python",
   "pygments_lexer": "ipython3",
   "version": "3.7.4"
  }
 },
 "nbformat": 4,
 "nbformat_minor": 2
}
